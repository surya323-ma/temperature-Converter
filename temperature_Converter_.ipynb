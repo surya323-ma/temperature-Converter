{
  "nbformat": 4,
  "nbformat_minor": 0,
  "metadata": {
    "colab": {
      "provenance": [],
      "authorship_tag": "ABX9TyOgwnIWVF/Pg4YLYV8OtBlR",
      "include_colab_link": true
    },
    "kernelspec": {
      "name": "python3",
      "display_name": "Python 3"
    },
    "language_info": {
      "name": "python"
    }
  },
  "cells": [
    {
      "cell_type": "markdown",
      "metadata": {
        "id": "view-in-github",
        "colab_type": "text"
      },
      "source": [
        "<a href=\"https://colab.research.google.com/github/surya323-ma/temperature-Converter/blob/main/temperature_Converter_.ipynb\" target=\"_parent\"><img src=\"https://colab.research.google.com/assets/colab-badge.svg\" alt=\"Open In Colab\"/></a>"
      ]
    },
    {
      "cell_type": "code",
      "execution_count": null,
      "metadata": {
        "colab": {
          "base_uri": "https://localhost:8080/"
        },
        "id": "nXqe6Df_TJud",
        "outputId": "d4159a95-ce12-42d5-d723-1699332c2682"
      },
      "outputs": [
        {
          "output_type": "stream",
          "name": "stdout",
          "text": [
            "\n",
            "   _____                      __                   ______              __\n",
            "  / ___/___  ____ ___________/ /_  ___  _____     /_  __/__  ___  ____/ /\n",
            "  \\__ \\/ _ \\/ __ `/ ___/ ___/ __ \\/ _ \\/ ___/      / / / _ \\/ _ \\/ __  / \n",
            " ___/ /  __/ /_/ / /  / /__/ / / /  __/ /         / / /  __/  __/ /_/ /  \n",
            "/____/\\___/\\__,_/_/   \\___/_/ /_/\\___/_/         /_/  \\___/\\___/\\__,_/   \n",
            "                                                                          \n",
            "\n",
            "\n",
            "Temperature Conversion Options:\n",
            "1. Celsius to Fahrenheit\n",
            "2. Fahrenheit to Celsius\n",
            "3. Celsius to Kelvin\n",
            "4. Kelvin to Celsius\n",
            "5. Fahrenheit to Kelvin\n",
            "6. Kelvin to Fahrenheit\n",
            "7. Exit\n",
            "\n",
            "Enter your choice (1-7): 1\n",
            "Enter temperature to convert: 98.5\n",
            "\n",
            "98.5°C = 209.30°F\n"
          ]
        }
      ],
      "source": [
        "from IPython.display import clear_output\n",
        "\n",
        "def temperature_converter():\n",
        "    clear_output()\n",
        "    print(\"\"\"\n",
        "   _____                      __                   ______              __\n",
        "  / ___/___  ____ ___________/ /_  ___  _____     /_  __/__  ___  ____/ /\n",
        "  \\__ \\/ _ \\/ __ `/ ___/ ___/ __ \\/ _ \\/ ___/      / / / _ \\/ _ \\/ __  /\n",
        " ___/ /  __/ /_/ / /  / /__/ / / /  __/ /         / / /  __/  __/ /_/ /\n",
        "/____/\\___/\\__,_/_/   \\___/_/ /_/\\___/_/         /_/  \\___/\\___/\\__,_/\n",
        "\n",
        "\"\"\")\n",
        "\n",
        "    while True:\n",
        "        print(\"\\nTemperature Conversion Options:\")\n",
        "        print(\"1. Celsius to Fahrenheit\")\n",
        "        print(\"2. Fahrenheit to Celsius\")\n",
        "        print(\"3. Celsius to Kelvin\")\n",
        "        print(\"4. Kelvin to Celsius\")\n",
        "        print(\"5. Fahrenheit to Kelvin\")\n",
        "        print(\"6. Kelvin to Fahrenheit\")\n",
        "        print(\"7. Exit\")\n",
        "\n",
        "        try:\n",
        "            choice = int(input(\"\\nEnter your choice (1-7): \"))\n",
        "            if choice == 7:\n",
        "                print(\"\\nGoodbye!\")\n",
        "                break\n",
        "\n",
        "            if choice < 1 or choice > 7:\n",
        "                print(\"Please enter a number between 1 and 7.\")\n",
        "                continue\n",
        "\n",
        "            if choice != 7:\n",
        "                temp = float(input(\"Enter temperature to convert: \"))\n",
        "\n",
        "            # Conversion logic\n",
        "            if choice == 1:\n",
        "                # Celsius to Fahrenheit\n",
        "                converted = (temp * 9/5) + 32\n",
        "                print(f\"\\n{temp}°C = {converted:.2f}°F\")\n",
        "            elif choice == 2:\n",
        "                # Fahrenheit to Celsius\n",
        "                converted = (temp - 32) * 5/9\n",
        "                print(f\"\\n{temp}°F = {converted:.2f}°C\")\n",
        "            elif choice == 3:\n",
        "                # Celsius to Kelvin\n",
        "                converted = temp + 273.15\n",
        "                print(f\"\\n{temp}°C = {converted:.2f}K\")\n",
        "            elif choice == 4:\n",
        "                # Kelvin to Celsius\n",
        "                converted = temp - 273.15\n",
        "                print(f\"\\n{temp}K = {converted:.2f}°C\")\n",
        "            elif choice == 5:\n",
        "                # Fahrenheit to Kelvin\n",
        "                converted = (temp - 32) * 5/9 + 273.15\n",
        "                print(f\"\\n{temp}°F = {converted:.2f}K\")\n",
        "            elif choice == 6:\n",
        "                # Kelvin to Fahrenheit\n",
        "                converted = (temp - 273.15) * 9/5 + 32\n",
        "                print(f\"\\n{temp}K = {converted:.2f}°F\")\n",
        "\n",
        "            input(\"\\nPress Enter to continue...\")\n",
        "            clear_output()\n",
        "            print(\"\"\"\n",
        "   _____                      __                   ______              __\n",
        "  / ___/___  ____ ___________/ /_  ___  _____     /_  __/__  ___  ____/ /\n",
        "  \\__ \\/ _ \\/ __ `/ ___/ ___/ __ \\/ _ \\/ ___/      / / / _ \\/ _ \\/ __  /\n",
        " ___/ /  __/ /_/ / /  / /__/ / / /  __/ /         / / /  __/  __/ /_/ /\n",
        "/____/\\___/\\__,_/_/   \\___/_/ /_/\\___/_/         /_/  \\___/\\___/\\__,_/\n",
        "\n",
        "\"\"\")\n",
        "\n",
        "        except ValueError:\n",
        "            print(\"Please enter valid numbers only.\")\n",
        "            input(\"\\nPress Enter to continue...\")\n",
        "            clear_output()\n",
        "            print(\"\"\"\n",
        "   _____                      __                   ______              __\n",
        "  / ___/___  ____ ___________/ /_  ___  _____     /_  __/__  ___  ____/ /\n",
        "  \\__ \\/ _ \\/ __ `/ ___/ ___/ __ \\/ _ \\/ ___/      / / / _ \\/ _ \\/ __  /\n",
        " ___/ /  __/ /_/ / /  / /__/ / / /  __/ /         / / /  __/  __/ /_/ /\n",
        "/____/\\___/\\__,_/_/   \\___/_/ /_/\\___/_/         /_/  \\___/\\___/\\__,_/\n",
        "\n",
        "\"\"\")\n",
        "\n",
        "# Start the converter\n",
        "temperature_converter()\n"
      ]
    }
  ]
}